{
 "cells": [
  {
   "cell_type": "code",
   "execution_count": 1,
   "id": "d7f47fef",
   "metadata": {},
   "outputs": [],
   "source": [
    "import sqlite3\n",
    "import os"
   ]
  },
  {
   "cell_type": "code",
   "execution_count": 2,
   "id": "ac6b3873",
   "metadata": {},
   "outputs": [
    {
     "name": "stdout",
     "output_type": "stream",
     "text": [
      "Database file deleted\n"
     ]
    }
   ],
   "source": [
    "import os\n",
    "import sqlite3\n",
    "\n",
    "db_path = \"crypto.db\"\n",
    "\n",
    "# Example: closing connection first\n",
    "# conn.close() must be called if you have an open connection\n",
    "\n",
    "if os.path.exists(db_path):\n",
    "    try:\n",
    "        os.remove(db_path)\n",
    "        print(\"Database file deleted\")\n",
    "    except PermissionError:\n",
    "        print(\"Database file is in use. Close all connections before deleting.\")\n",
    "else:\n",
    "    print(\"Database file does not exist\")\n"
   ]
  },
  {
   "cell_type": "code",
   "execution_count": 3,
   "id": "eca410ee",
   "metadata": {},
   "outputs": [
    {
     "name": "stdout",
     "output_type": "stream",
     "text": [
      "database file does not exist\n"
     ]
    }
   ],
   "source": [
    "db_path = \"crypto.db\"\n",
    "\n",
    "if os.path.exists(db_path):\n",
    "    os.remove(db_path)\n",
    "    print(\"databsae file deleted\")\n",
    "else:\n",
    "    print(\"database file does not exist\")"
   ]
  },
  {
   "cell_type": "code",
   "execution_count": 4,
   "id": "1e302071",
   "metadata": {},
   "outputs": [
    {
     "name": "stdout",
     "output_type": "stream",
     "text": [
      "Table 'coins' created successfully.\n"
     ]
    }
   ],
   "source": [
    "#create or connect to a database file\n",
    "conn = sqlite3.connect(db_path)\n",
    "\n",
    "# create a cursor object to execute SQL commands\n",
    "cursor = conn.cursor()\n",
    "\n",
    "#create a table\n",
    "cursor.execute(\"DROP TABLE IF EXISTS coins\")\n",
    "cursor.execute('''\n",
    "CREATE TABLE coins (\n",
    "    coin_id INTEGER PRIMARY KEY AUTOINCREMENT,\n",
    "    name TEXT NOT NULL,\n",
    "    symbol TEXT NOT NULL UNIQUE,\n",
    "    price REAL,\n",
    "    market_cap REAL,\n",
    "    last_updated TIMESTAMP DEFAULT CURRENT_TIMESTAMP\n",
    ")\n",
    "''')\n",
    "\n",
    "# save (commit) the changes\n",
    "conn.commit()\n",
    "\n",
    "print(\"Table 'coins' created successfully.\")\n"
   ]
  },
  {
   "cell_type": "markdown",
   "id": "90303b9a",
   "metadata": {},
   "source": [
    "## inserting data"
   ]
  },
  {
   "cell_type": "code",
   "execution_count": 5,
   "id": "3a8991c5",
   "metadata": {},
   "outputs": [],
   "source": [
    "# insert single record\n",
    "cursor.execute('''\n",
    "INSERT INTO coins (name, symbol, price, market_cap)\n",
    "VALUES ('Bitcoin', 'BTC', 50000.95, 950000000000)\n",
    "''')\n",
    "\n",
    "\n",
    "# insert multiple records\n",
    "coins = [\n",
    "    ('Ethereum', 'ETH', 4000, 470000000000),\n",
    "    ('Cardano', 'ADA', 2.34, 70000000000),\n",
    "    ('Solana', 'SOL', 150.98, 47000000000)\n",
    "]\n",
    "\n",
    "cursor.executemany('''\n",
    "INSERT INTO coins (name, symbol, price, market_cap)\n",
    "VALUES (?, ?, ?, ?)\n",
    "''', coins)\n",
    "\n",
    "conn.commit()"
   ]
  },
  {
   "cell_type": "code",
   "execution_count": 6,
   "id": "8a377051",
   "metadata": {},
   "outputs": [
    {
     "name": "stdout",
     "output_type": "stream",
     "text": [
      "All coins: [(1, 'Bitcoin', 'BTC', 50000.95, 950000000000.0, '2025-08-13 08:21:41'), (2, 'Ethereum', 'ETH', 4000.0, 470000000000.0, '2025-08-13 08:21:41'), (3, 'Cardano', 'ADA', 2.34, 70000000000.0, '2025-08-13 08:21:41'), (4, 'Solana', 'SOL', 150.98, 47000000000.0, '2025-08-13 08:21:41')]\n"
     ]
    }
   ],
   "source": [
    "# get all coins\n",
    "cursor.execute(\"select * from coins\")\n",
    "all_coins = cursor.fetchall()\n",
    "print(\"All coins:\", all_coins)"
   ]
  },
  {
   "cell_type": "code",
   "execution_count": 7,
   "id": "0e5560d6",
   "metadata": {},
   "outputs": [
    {
     "name": "stdout",
     "output_type": "stream",
     "text": [
      "Bitcoin data: (1, 'Bitcoin', 'BTC', 50000.95, 950000000000.0, '2025-08-13 08:21:41')\n"
     ]
    }
   ],
   "source": [
    "# get one coin\n",
    "cursor.execute(\"SELECT * FROM coins WHERE symbol = 'BTC'\")\n",
    "bitcoin = cursor.fetchone()\n",
    "print(\"Bitcoin data:\", bitcoin)"
   ]
  },
  {
   "cell_type": "code",
   "execution_count": 8,
   "id": "325e1a51",
   "metadata": {},
   "outputs": [
    {
     "name": "stdout",
     "output_type": "stream",
     "text": [
      "Expensive coin data: [('Bitcoin', 50000.95), ('Ethereum', 4000.0), ('Solana', 150.98)]\n"
     ]
    }
   ],
   "source": [
    "#get specific column with a condition\n",
    "cursor.execute(\"SELECT name, price FROM coins WHERE price > 10 \")\n",
    "expensive_coins = cursor.fetchall()\n",
    "print(\"Expensive coin data:\", expensive_coins)"
   ]
  },
  {
   "cell_type": "code",
   "execution_count": 9,
   "id": "105b6c48",
   "metadata": {},
   "outputs": [
    {
     "name": "stdout",
     "output_type": "stream",
     "text": [
      "3 coins inserted successfully.\n"
     ]
    }
   ],
   "source": [
    "import sqlite3\n",
    "\n",
    "# Connect to your database\n",
    "conn = sqlite3.connect('crypto.db')\n",
    "cursor = conn.cursor()\n",
    "\n",
    "# Function to add new coins\n",
    "def add_new_coins(new_coins):\n",
    "    cursor.executemany('''\n",
    "    INSERT INTO coins (name, symbol, price, market_cap)\n",
    "    VALUES (?, ?, ?, ?)\n",
    "    ''', new_coins)\n",
    "    conn.commit()\n",
    "    print(f\"{len(new_coins)} coins inserted successfully.\")\n",
    "\n",
    "# Example: Adding new coins\n",
    "new_entries = [\n",
    "    ('Polkadot', 'DOT', 25.75, 28000000000),\n",
    "    ('Avalanche', 'AVAX', 85.20, 23000000000),\n",
    "    ('Chainlink', 'LINK', 30.55, 14000000000)\n",
    "]\n",
    "\n",
    "add_new_coins(new_entries)\n",
    "\n",
    "# Close connection when done\n"
   ]
  },
  {
   "cell_type": "code",
   "execution_count": 10,
   "id": "39e98bfc",
   "metadata": {},
   "outputs": [
    {
     "name": "stdout",
     "output_type": "stream",
     "text": [
      "All coins: [(1, 'Bitcoin', 'BTC', 50000.95, 950000000000.0, '2025-08-13 08:21:41'), (2, 'Ethereum', 'ETH', 4000.0, 470000000000.0, '2025-08-13 08:21:41'), (3, 'Cardano', 'ADA', 2.34, 70000000000.0, '2025-08-13 08:21:41'), (4, 'Solana', 'SOL', 150.98, 47000000000.0, '2025-08-13 08:21:41'), (5, 'Polkadot', 'DOT', 25.75, 28000000000.0, '2025-08-13 08:21:41'), (6, 'Avalanche', 'AVAX', 85.2, 23000000000.0, '2025-08-13 08:21:41'), (7, 'Chainlink', 'LINK', 30.55, 14000000000.0, '2025-08-13 08:21:41')]\n"
     ]
    }
   ],
   "source": [
    "# get all coins\n",
    "cursor.execute(\"SELECT * FROM coins\")\n",
    "all_coins = cursor.fetchall()\n",
    "print(\"All coins:\", all_coins)"
   ]
  },
  {
   "cell_type": "code",
   "execution_count": 18,
   "id": "68eddfaa",
   "metadata": {},
   "outputs": [
    {
     "ename": "OperationalError",
     "evalue": "table coins has no column named date",
     "output_type": "error",
     "traceback": [
      "\u001b[31m---------------------------------------------------------------------------\u001b[39m",
      "\u001b[31mOperationalError\u001b[39m                          Traceback (most recent call last)",
      "\u001b[36mCell\u001b[39m\u001b[36m \u001b[39m\u001b[32mIn[18]\u001b[39m\u001b[32m, line 2\u001b[39m\n\u001b[32m      1\u001b[39m \u001b[38;5;66;03m# Insert into prices table\u001b[39;00m\n\u001b[32m----> \u001b[39m\u001b[32m2\u001b[39m \u001b[43mcursor\u001b[49m\u001b[43m.\u001b[49m\u001b[43mexecutemany\u001b[49m\u001b[43m(\u001b[49m\u001b[33;43m'''\u001b[39;49m\n\u001b[32m      3\u001b[39m \u001b[33;43m    INSERT INTO coins (coin_id, date, price)\u001b[39;49m\n\u001b[32m      4\u001b[39m \u001b[33;43m    VALUES (?, ?, ?)\u001b[39;49m\n\u001b[32m      5\u001b[39m \u001b[33;43m'''\u001b[39;49m\u001b[43m,\u001b[49m\u001b[43m \u001b[49m\u001b[43mprice_records\u001b[49m\u001b[43m)\u001b[49m\n",
      "\u001b[31mOperationalError\u001b[39m: table coins has no column named date"
     ]
    }
   ],
   "source": [
    "# Insert into prices table\n",
    "cursor.executemany('''\n",
    "    INSERT INTO coins (coin_id, date, price)\n",
    "    VALUES (?, ?, ?)\n",
    "''', price_records)\n"
   ]
  },
  {
   "cell_type": "code",
   "execution_count": 16,
   "id": "d25d36e9",
   "metadata": {},
   "outputs": [
    {
     "ename": "OperationalError",
     "evalue": "table coins has no column named date",
     "output_type": "error",
     "traceback": [
      "\u001b[31m---------------------------------------------------------------------------\u001b[39m",
      "\u001b[31mOperationalError\u001b[39m                          Traceback (most recent call last)",
      "\u001b[36mCell\u001b[39m\u001b[36m \u001b[39m\u001b[32mIn[16]\u001b[39m\u001b[32m, line 26\u001b[39m\n\u001b[32m     23\u001b[39m         price_records.append((coin_id, date.isoformat(), price))\n\u001b[32m     25\u001b[39m \u001b[38;5;66;03m# Insert into prices table\u001b[39;00m\n\u001b[32m---> \u001b[39m\u001b[32m26\u001b[39m \u001b[43mcursor\u001b[49m\u001b[43m.\u001b[49m\u001b[43mexecutemany\u001b[49m\u001b[43m(\u001b[49m\u001b[33;43m'''\u001b[39;49m\n\u001b[32m     27\u001b[39m \u001b[33;43m    INSERT INTO coins (coin_id, date, price)\u001b[39;49m\n\u001b[32m     28\u001b[39m \u001b[33;43m    VALUES (?, ?, ?)\u001b[39;49m\n\u001b[32m     29\u001b[39m \u001b[33;43m'''\u001b[39;49m\u001b[43m,\u001b[49m\u001b[43m \u001b[49m\u001b[43mprice_records\u001b[49m\u001b[43m)\u001b[49m\n\u001b[32m     31\u001b[39m conn.commit()\n\u001b[32m     32\u001b[39m \u001b[38;5;28mprint\u001b[39m(\u001b[33mf\u001b[39m\u001b[33m\"\u001b[39m\u001b[33mInserted \u001b[39m\u001b[38;5;132;01m{\u001b[39;00m\u001b[38;5;28mlen\u001b[39m(price_records)\u001b[38;5;132;01m}\u001b[39;00m\u001b[33m daily price records.\u001b[39m\u001b[33m\"\u001b[39m)\n",
      "\u001b[31mOperationalError\u001b[39m: table coins has no column named date"
     ]
    }
   ],
   "source": [
    "#Insert 5 daily price records for each coin into the prices table.\n",
    "import sqlite3\n",
    "from datetime import datetime, timedelta\n",
    "import random\n",
    "\n",
    "# Connect to database\n",
    "conn = sqlite3.connect('crypto.db')\n",
    "cursor = conn.cursor()\n",
    "\n",
    "# Fetch all coins from the coins table\n",
    "cursor.execute(\"SELECT symbol, name, price FROM coins\")\n",
    "coins = cursor.fetchall()\n",
    "\n",
    "# Generate and insert 5 daily prices for each coin\n",
    "today = datetime.now().date()\n",
    "price_records = []\n",
    "\n",
    "for coin_id, coin_name, base_price in coins:\n",
    "    for days_ago in range(5):\n",
    "        date = today - timedelta(days=days_ago)\n",
    "        # Simulate slight price changes (+/- up to 5%)\n",
    "        price = round(base_price * (1 + random.uniform(-0.05, 0.05)), 2)\n",
    "        price_records.append((coin_id, date.isoformat(), price))\n",
    "\n",
    "# Insert into prices table\n",
    "cursor.executemany('''\n",
    "    INSERT INTO coins (coin_id, date, price)\n",
    "    VALUES (?, ?, ?)\n",
    "''', price_records)\n",
    "\n",
    "conn.commit()\n",
    "print(f\"Inserted {len(price_records)} daily price records.\")\n",
    "\n",
    "conn.close()\n",
    "\n"
   ]
  },
  {
   "cell_type": "code",
   "execution_count": 12,
   "id": "8b9c4f73",
   "metadata": {},
   "outputs": [
    {
     "name": "stdout",
     "output_type": "stream",
     "text": [
      "DataFrame from SQLite database:\n",
      "   coin_id       name symbol     price    market_cap         last_updated\n",
      "0        1    Bitcoin    BTC  50000.95  9.500000e+11  2025-08-13 08:21:41\n",
      "1        2   Ethereum    ETH   4000.00  4.700000e+11  2025-08-13 08:21:41\n",
      "2        3    Cardano    ADA      2.34  7.000000e+10  2025-08-13 08:21:41\n",
      "3        4     Solana    SOL    150.98  4.700000e+10  2025-08-13 08:21:41\n",
      "4        5   Polkadot    DOT     25.75  2.800000e+10  2025-08-13 08:21:41\n",
      "5        6  Avalanche   AVAX     85.20  2.300000e+10  2025-08-13 08:21:41\n",
      "6        7  Chainlink   LINK     30.55  1.400000e+10  2025-08-13 08:21:41\n"
     ]
    }
   ],
   "source": [
    "import pandas as pd\n",
    "\n",
    "with sqlite3.connect(db_path) as conn:\n",
    "    df = pd.read_sql_query(\"SELECT * FROM coins\", conn)\n",
    "\n",
    "print(\"DataFrame from SQLite database:\")\n",
    "print(df)"
   ]
  },
  {
   "cell_type": "code",
   "execution_count": 22,
   "id": "06874536",
   "metadata": {},
   "outputs": [
    {
     "ename": "IntegrityError",
     "evalue": "NOT NULL constraint failed: coins.name",
     "output_type": "error",
     "traceback": [
      "\u001b[31m---------------------------------------------------------------------------\u001b[39m",
      "\u001b[31mIntegrityError\u001b[39m                            Traceback (most recent call last)",
      "\u001b[36mCell\u001b[39m\u001b[36m \u001b[39m\u001b[32mIn[22]\u001b[39m\u001b[32m, line 24\u001b[39m\n\u001b[32m     21\u001b[39m         price_records.append((coin_id, date.isoformat(), price))\n\u001b[32m     23\u001b[39m \u001b[38;5;66;03m# Insert into prices table\u001b[39;00m\n\u001b[32m---> \u001b[39m\u001b[32m24\u001b[39m \u001b[43mcursor\u001b[49m\u001b[43m.\u001b[49m\u001b[43mexecutemany\u001b[49m\u001b[43m(\u001b[49m\u001b[33;43m'''\u001b[39;49m\n\u001b[32m     25\u001b[39m \u001b[33;43m    INSERT INTO coins (coin_id, last_updated, price)\u001b[39;49m\n\u001b[32m     26\u001b[39m \u001b[33;43m    VALUES (?, ?, ?)\u001b[39;49m\n\u001b[32m     27\u001b[39m \u001b[33;43m'''\u001b[39;49m\u001b[43m,\u001b[49m\u001b[43m \u001b[49m\u001b[43mprice_records\u001b[49m\u001b[43m)\u001b[49m\n\u001b[32m     29\u001b[39m conn.commit()\n\u001b[32m     30\u001b[39m \u001b[38;5;28mprint\u001b[39m(\u001b[33mf\u001b[39m\u001b[33m\"\u001b[39m\u001b[33mInserted \u001b[39m\u001b[38;5;132;01m{\u001b[39;00m\u001b[38;5;28mlen\u001b[39m(price_records)\u001b[38;5;132;01m}\u001b[39;00m\u001b[33m daily price records.\u001b[39m\u001b[33m\"\u001b[39m)\n",
      "\u001b[31mIntegrityError\u001b[39m: NOT NULL constraint failed: coins.name"
     ]
    }
   ],
   "source": [
    "import sqlite3\n",
    "from datetime import datetime, timedelta\n",
    "import random\n",
    "\n",
    "# Connect to database\n",
    "conn = sqlite3.connect('crypto.db')\n",
    "cursor = conn.cursor()\n",
    "\n",
    "# Fetch all coins with their IDs\n",
    "cursor.execute(\"SELECT coin_id, name, price FROM coins\")\n",
    "coins = cursor.fetchall()\n",
    "\n",
    "# Generate and insert 5 daily prices for each coin\n",
    "today = datetime.now().date()\n",
    "price_records = []\n",
    "\n",
    "for coin_id, coin_name, base_price in coins:\n",
    "    for days_ago in range(5):\n",
    "        date = today - timedelta(days=days_ago)\n",
    "        price = round(base_price * (1 + random.uniform(-0.05, 0.05)), 2)\n",
    "        price_records.append((coin_id, date.isoformat(), price))\n",
    "\n",
    "# Insert into prices table\n",
    "cursor.executemany('''\n",
    "    INSERT INTO coins (coin_id, last_updated, price)\n",
    "    VALUES (?, ?, ?)\n",
    "''', price_records)\n",
    "\n",
    "conn.commit()\n",
    "print(f\"Inserted {len(price_records)} daily price records.\")\n",
    "\n",
    "conn.close()\n"
   ]
  },
  {
   "cell_type": "markdown",
   "id": "b4375c31",
   "metadata": {},
   "source": [
    "## updating and deleting\n"
   ]
  }
 ],
 "metadata": {
  "kernelspec": {
   "display_name": ".venv",
   "language": "python",
   "name": "python3"
  },
  "language_info": {
   "codemirror_mode": {
    "name": "ipython",
    "version": 3
   },
   "file_extension": ".py",
   "mimetype": "text/x-python",
   "name": "python",
   "nbconvert_exporter": "python",
   "pygments_lexer": "ipython3",
   "version": "3.12.3"
  }
 },
 "nbformat": 4,
 "nbformat_minor": 5
}
