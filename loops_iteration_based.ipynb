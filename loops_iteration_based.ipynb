{
 "cells": [
  {
   "cell_type": "code",
   "execution_count": 1,
   "id": "bb47208c",
   "metadata": {},
   "outputs": [
    {
     "name": "stdout",
     "output_type": "stream",
     "text": [
      "average gas is 52.857142857142854\n"
     ]
    }
   ],
   "source": [
    "#average daily gas fee \n",
    "#calculate the average gas fee from a a list of daily ethereum gas fees\n",
    "\n",
    "list_of_gas_fees = [20, 30, 40, 80, 50, 55,95]\n",
    "total_gas = 0\n",
    "\n",
    "for i in list_of_gas_fees :\n",
    "    total_gas = total_gas + i\n",
    "    num = len(list_of_gas_fees)\n",
    "    average = total_gas/num\n",
    "print(\"average gas is\", average)\n",
    "\n",
    "\n",
    "\n"
   ]
  },
  {
   "cell_type": "code",
   "execution_count": 2,
   "id": "d2810a90",
   "metadata": {},
   "outputs": [
    {
     "name": "stdout",
     "output_type": "stream",
     "text": [
      "Day with highest transactions: day4\n",
      "Number of transactions: 1600\n"
     ]
    }
   ],
   "source": [
    "#highest daily transaction count\n",
    "#find the day with the highest number of transactions on a blockchain\n",
    "\n",
    "daily_transaction_counts = {\n",
    "    \"day1\": 1200,\n",
    "    \"day2\": 1400,\n",
    "    \"day3\": 1350,\n",
    "    \"day4\": 1600,\n",
    "    \"day5\": 1100,\n",
    "    \"day6\": 1150,\n",
    "    \"day7\": 1270\n",
    "}\n",
    "max_day = max(daily_transaction_counts, key=daily_transaction_counts.get)\n",
    "max_value = daily_transaction_counts[max_day]\n",
    "print(\"Day with highest transactions:\", max_day)\n",
    "print(\"Number of transactions:\", max_value)\n",
    "\n",
    "\n"
   ]
  },
  {
   "cell_type": "code",
   "execution_count": 3,
   "id": "2c88a947",
   "metadata": {},
   "outputs": [
    {
     "name": "stdout",
     "output_type": "stream",
     "text": [
      "lowest token price is 1.0 and hishest token price is 2.8\n"
     ]
    }
   ],
   "source": [
    "#find token min/max price\n",
    "#describe the lowest and highest price ofa token over a week\n",
    "\n",
    "token_prices = [1.0, 1.2, 2.1, 2.5, 2.0, 2.8, 2.6]\n",
    "for t in token_prices:\n",
    "    lowest = min(token_prices)\n",
    "    highest = max(token_prices)\n",
    "print('lowest token price is', lowest, 'and hishest token price is', highest)"
   ]
  },
  {
   "cell_type": "code",
   "execution_count": 4,
   "id": "01792b6a",
   "metadata": {},
   "outputs": [
    {
     "name": "stdout",
     "output_type": "stream",
     "text": [
      "Simple Moving Averages: [1.1666666666666667, 1.3, 1.4333333333333333]\n"
     ]
    }
   ],
   "source": [
    "#simple moving average for token price\n",
    "#compute the simple moving average of a token price for a given window\n",
    "\n",
    "price = [1.0, 1.2, 1.3, 1.4, 1.6]\n",
    "size = 3\n",
    "\n",
    "simple_moving_average = []\n",
    "\n",
    "for i in range(len(price) - size + 1):\n",
    "    window = price[i:i+size]        \n",
    "    average = sum(window) / size    \n",
    "    simple_moving_average.append(average)\n",
    "\n",
    "print(\"Simple Moving Averages:\", simple_moving_average)\n"
   ]
  },
  {
   "cell_type": "code",
   "execution_count": 5,
   "id": "91c62ff0",
   "metadata": {},
   "outputs": [
    {
     "name": "stdout",
     "output_type": "stream",
     "text": [
      "profitable day is 3\n"
     ]
    }
   ],
   "source": [
    "#count profitable days on dex\n",
    "#count the numbers of day a trader had a positive return on a dex.\n",
    "\n",
    "daily_pnl = [0.03, -0.02, 0.01, 0.04, -0.01]\n",
    "\n",
    "trading_days = 0\n",
    "for t in daily_pnl:\n",
    "    if t > 0:\n",
    "        trading_days += 1\n",
    "print('profitable day is', trading_days)"
   ]
  },
  {
   "cell_type": "code",
   "execution_count": 6,
   "id": "69e60d99",
   "metadata": {},
   "outputs": [
    {
     "name": "stdout",
     "output_type": "stream",
     "text": [
      "average of total token held is 187.5\n"
     ]
    }
   ],
   "source": [
    "#average number of tokens held\n",
    "#calculate the average number of tokens held across wallets\n",
    "token_held_per_wallet = [100, 200, 150, 300]\n",
    "token_held = len(token_held_per_wallet)\n",
    "sum_of_token = 0\n",
    "\n",
    "for t in token_held_per_wallet:\n",
    "    sum_of_token += t\n",
    "print('average of total token held is', sum_of_token/token_held)\n",
    "\n"
   ]
  },
  {
   "cell_type": "code",
   "execution_count": 7,
   "id": "0f9d54db",
   "metadata": {},
   "outputs": [
    {
     "name": "stdout",
     "output_type": "stream",
     "text": [
      "the total number of walets holding more than 100 tokens is 3\n"
     ]
    }
   ],
   "source": [
    "#wallet above holding threshold\n",
    "#count the number of wallets holding more than 100 tokens\n",
    "\n",
    "token_holding = [50, 150, 120, 80, 200]\n",
    "threshold = 100\n",
    "count = 0\n",
    "\n",
    "for t in token_holding:\n",
    "   if t > 100:\n",
    "    count += 1\n",
    "print('the total number of walets holding more than 100 tokens is', count)"
   ]
  },
  {
   "cell_type": "code",
   "execution_count": 8,
   "id": "55824826",
   "metadata": {},
   "outputs": [
    {
     "name": "stdout",
     "output_type": "stream",
     "text": [
      "total gas used across transaction is 103000\n"
     ]
    }
   ],
   "source": [
    "#total gas spent by wallets\n",
    "#calculate total gas used by multiple wallets across transactions\n",
    "\n",
    "gas_used_per_wallets = [21000, 50000, 32000]\n",
    "total = 0\n",
    "for t in gas_used_per_wallets:\n",
    "    total += t\n",
    "print('total gas used across transaction is', total)"
   ]
  },
  {
   "cell_type": "code",
   "execution_count": 9,
   "id": "c40e3dd7",
   "metadata": {},
   "outputs": [
    {
     "name": "stdout",
     "output_type": "stream",
     "text": [
      "total tokens distributed is 250\n"
     ]
    }
   ],
   "source": [
    "#cumulative token airdrop\n",
    "#calculate the total tokens in an airdrops across multiple addresses\n",
    "\n",
    "token_distributed = [50,75,100,25]\n",
    "total = 0\n",
    "for t in token_distributed:\n",
    "    total += t\n",
    "print('total tokens distributed is', total)"
   ]
  },
  {
   "cell_type": "code",
   "execution_count": 10,
   "id": "baba2e54",
   "metadata": {},
   "outputs": [
    {
     "name": "stdout",
     "output_type": "stream",
     "text": [
      "the average fee user pay when bridging tokens across chain is 1.125\n"
     ]
    }
   ],
   "source": [
    "#average bridge fee across chains\n",
    "#find the average fee users pay when bridging tokens across chains.\n",
    "\n",
    "fees_user_pay = [1.2, 0.8, 1.0, 1.5]\n",
    "num = len(fees_user_pay)\n",
    "total = 0\n",
    "for t in fees_user_pay:\n",
    "    total += t\n",
    "print('the average fee user pay when bridging tokens across chain is', total/num)"
   ]
  }
 ],
 "metadata": {
  "kernelspec": {
   "display_name": ".venv",
   "language": "python",
   "name": "python3"
  },
  "language_info": {
   "codemirror_mode": {
    "name": "ipython",
    "version": 3
   },
   "file_extension": ".py",
   "mimetype": "text/x-python",
   "name": "python",
   "nbconvert_exporter": "python",
   "pygments_lexer": "ipython3",
   "version": "3.12.3"
  }
 },
 "nbformat": 4,
 "nbformat_minor": 5
}
