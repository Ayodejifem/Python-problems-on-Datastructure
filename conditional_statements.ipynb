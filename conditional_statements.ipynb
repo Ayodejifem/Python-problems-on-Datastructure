{
 "cells": [
  {
   "cell_type": "code",
   "execution_count": 2,
   "id": "32727b97",
   "metadata": {},
   "outputs": [
    {
     "name": "stdout",
     "output_type": "stream",
     "text": [
      "Bullish\n"
     ]
    }
   ],
   "source": [
    "#token price classification\n",
    "#classify a token price movement as bullish if it increased and bearish if it decreased\n",
    "\n",
    "new_price = 20\n",
    "old_price = 10\n",
    "\n",
    "if new_price > old_price:\n",
    "    print('Bullish')\n",
    "else:\n",
    "    print('bearish')"
   ]
  },
  {
   "cell_type": "code",
   "execution_count": 5,
   "id": "7b9975d4",
   "metadata": {},
   "outputs": [
    {
     "name": "stdout",
     "output_type": "stream",
     "text": [
      "high gas fee\n"
     ]
    }
   ],
   "source": [
    "#gas fee alert system\n",
    "#alert if ethereum gas fee exceeds a given threshold\n",
    "\n",
    "gas_fee = 0.35\n",
    "\n",
    "if gas_fee > 0.01:\n",
    "    print('high gas fee')\n",
    "else:\n",
    "    print('proceed')"
   ]
  },
  {
   "cell_type": "code",
   "execution_count": 6,
   "id": "2afb24c7",
   "metadata": {},
   "outputs": [
    {
     "name": "stdout",
     "output_type": "stream",
     "text": [
      "whale wallet\n"
     ]
    }
   ],
   "source": [
    "#detect whale wallet\n",
    "#identify if a wallet is a whale based on token balance\n",
    "\n",
    "token_balance = 50000\n",
    "if token_balance > 40000:\n",
    "    print('whale wallet')"
   ]
  },
  {
   "cell_type": "code",
   "execution_count": 7,
   "id": "738308de",
   "metadata": {},
   "outputs": [
    {
     "name": "stdout",
     "output_type": "stream",
     "text": [
      "suspicious\n"
     ]
    }
   ],
   "source": [
    "#token transfer flag\n",
    "#flag a transaction as suspicious if the amount is above 1 million tokens\n",
    "transfer_amount = 1500000\n",
    "if transfer_amount > 100000:\n",
    "    print('suspicious')"
   ]
  },
  {
   "cell_type": "code",
   "execution_count": 8,
   "id": "fa42319a",
   "metadata": {},
   "outputs": [
    {
     "name": "stdout",
     "output_type": "stream",
     "text": [
      "high slippage detected\n"
     ]
    }
   ],
   "source": [
    "#dex slippage warning\n",
    "#warn users if the slippage is greater than 5%\n",
    "slippage_percentage = 6.5\n",
    "if slippage_percentage > 5:\n",
    "    print('high slippage detected')\n"
   ]
  },
  {
   "cell_type": "code",
   "execution_count": 12,
   "id": "490ed788",
   "metadata": {},
   "outputs": [
    {
     "name": "stdout",
     "output_type": "stream",
     "text": [
      "sold out\n"
     ]
    }
   ],
   "source": [
    "#nft mint status check\n",
    "#check if an nft is sold out or available for mint\n",
    "\n",
    "nft_total_supply = 10000\n",
    "nft_minted_count = 10000\n",
    "if nft_total_supply == nft_minted_count:\n",
    "    print('sold out')"
   ]
  },
  {
   "cell_type": "code",
   "execution_count": 16,
   "id": "d9d81075",
   "metadata": {},
   "outputs": [
    {
     "name": "stdout",
     "output_type": "stream",
     "text": [
      "depegged\n"
     ]
    }
   ],
   "source": [
    "#stablecoin health check\n",
    "#determine if a stablecoin is depegged\n",
    "\n",
    "usdc_standard_price = 1\n",
    "usdc_current_price = 0.94\n",
    "\n",
    "if usdc_current_price > 0.95:\n",
    "    print('pegged')\n",
    "elif usdc_current_price < 0.95:\n",
    "    print('depegged')\n"
   ]
  },
  {
   "cell_type": "code",
   "execution_count": 19,
   "id": "aa669337",
   "metadata": {},
   "outputs": [
    {
     "name": "stdout",
     "output_type": "stream",
     "text": [
      "not eligible\n"
     ]
    }
   ],
   "source": [
    "#reward eligibility\n",
    "#check if a user qualifies for staking rewards\n",
    "\n",
    "must_stake = 500\n",
    "token_staked = 300\n",
    "if token_staked < must_stake:\n",
    "    print('not eligible')\n",
    "else:\n",
    "    print('eligible')"
   ]
  },
  {
   "cell_type": "code",
   "execution_count": 20,
   "id": "d4e2f013",
   "metadata": {},
   "outputs": [
    {
     "name": "stdout",
     "output_type": "stream",
     "text": [
      "eligible\n"
     ]
    }
   ],
   "source": [
    "#airdrops eligibility\n",
    "#check if a wallet is eligible for airdrop\n",
    "\n",
    "number_of_transaction = 10\n",
    "token_holding = 200\n",
    "if number_of_transaction > 5 or token_holding > 100:\n",
    "    print('eligible')\n",
    "else:\n",
    "    print('not eligible')"
   ]
  },
  {
   "cell_type": "code",
   "execution_count": 22,
   "id": "3e7be0d7",
   "metadata": {},
   "outputs": [
    {
     "name": "stdout",
     "output_type": "stream",
     "text": [
      "efficient\n"
     ]
    }
   ],
   "source": [
    "#transaction fee efficiency\n",
    "#flag if a transaction fee is greater than 5% of the transaction amount\n",
    "\n",
    "transaction_amount = 500\n",
    "transaction_fee = 3\n",
    "\n",
    "if transaction_fee < 5:\n",
    "    print('efficient')"
   ]
  }
 ],
 "metadata": {
  "kernelspec": {
   "display_name": ".venv",
   "language": "python",
   "name": "python3"
  },
  "language_info": {
   "codemirror_mode": {
    "name": "ipython",
    "version": 3
   },
   "file_extension": ".py",
   "mimetype": "text/x-python",
   "name": "python",
   "nbconvert_exporter": "python",
   "pygments_lexer": "ipython3",
   "version": "3.12.3"
  }
 },
 "nbformat": 4,
 "nbformat_minor": 5
}
